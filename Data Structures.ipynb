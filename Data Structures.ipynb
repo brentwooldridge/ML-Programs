{
 "cells": [
  {
   "cell_type": "code",
   "execution_count": 1,
   "id": "8bb1ed16",
   "metadata": {},
   "outputs": [],
   "source": [
    "import pandas as pd"
   ]
  },
  {
   "cell_type": "code",
   "execution_count": 2,
   "id": "aa8652b2",
   "metadata": {},
   "outputs": [],
   "source": [
    "s = pd.Series([1,2,3,4], ['a','b','c','d'])"
   ]
  },
  {
   "cell_type": "code",
   "execution_count": 3,
   "id": "96c354ca",
   "metadata": {},
   "outputs": [
    {
     "data": {
      "text/plain": [
       "a    1\n",
       "b    2\n",
       "c    3\n",
       "d    4\n",
       "dtype: int64"
      ]
     },
     "execution_count": 3,
     "metadata": {},
     "output_type": "execute_result"
    }
   ],
   "source": [
    "s"
   ]
  },
  {
   "cell_type": "markdown",
   "id": "163155a3",
   "metadata": {},
   "source": [
    "Data Structures"
   ]
  },
  {
   "cell_type": "code",
   "execution_count": 4,
   "id": "7db4ca9c",
   "metadata": {},
   "outputs": [],
   "source": [
    "#string-mutable but unassignable\n",
    "d = \"This is a string data structure \"\n",
    "j = 'Asisthis'"
   ]
  },
  {
   "cell_type": "code",
   "execution_count": 5,
   "id": "34f35eed",
   "metadata": {},
   "outputs": [
    {
     "data": {
      "text/plain": [
       "['This', 'is', 'a', 'string', 'data', 'structure']"
      ]
     },
     "execution_count": 5,
     "metadata": {},
     "output_type": "execute_result"
    }
   ],
   "source": [
    "d.split()"
   ]
  },
  {
   "cell_type": "code",
   "execution_count": 6,
   "id": "8e2a4763",
   "metadata": {},
   "outputs": [
    {
     "data": {
      "text/plain": [
       "'y'"
      ]
     },
     "execution_count": 6,
     "metadata": {},
     "output_type": "execute_result"
    }
   ],
   "source": [
    "'$$$y$$$'.strip('$')"
   ]
  },
  {
   "cell_type": "code",
   "execution_count": 7,
   "id": "d835e5c1",
   "metadata": {},
   "outputs": [
    {
     "data": {
      "text/plain": [
       "'brent'"
      ]
     },
     "execution_count": 7,
     "metadata": {},
     "output_type": "execute_result"
    }
   ],
   "source": [
    "'brent.e'.strip('e.') #webscraping"
   ]
  },
  {
   "cell_type": "code",
   "execution_count": 8,
   "id": "6e60275c",
   "metadata": {},
   "outputs": [
    {
     "data": {
      "text/plain": [
       "'brent'"
      ]
     },
     "execution_count": 8,
     "metadata": {},
     "output_type": "execute_result"
    }
   ],
   "source": [
    "t = 'brent'\n",
    "t.find('en') #returns leftmost index of arg\n",
    "s = ['1', '2'] \n",
    "t2 = '+'.join(s) #joins elements of arg using string\n",
    "t1 = 'BRENT'\n",
    "t1.lower() #makes every letter lowercase\n",
    "t.replace('t', 'm') #replaces first arg with 2nd\n",
    "t2.split('+') #splits string at arg and removes\n",
    "t3 = '   brent   '\n",
    "t3.strip()\n",
    "\n",
    "#####Translate next\n",
    "\n"
   ]
  },
  {
   "cell_type": "code",
   "execution_count": 9,
   "id": "6877f87e",
   "metadata": {},
   "outputs": [
    {
     "data": {
      "text/plain": [
       "'y   '"
      ]
     },
     "execution_count": 9,
     "metadata": {},
     "output_type": "execute_result"
    }
   ],
   "source": [
    "'   y   '.lstrip()"
   ]
  },
  {
   "cell_type": "code",
   "execution_count": 10,
   "id": "41c93d39",
   "metadata": {},
   "outputs": [
    {
     "data": {
      "text/plain": [
       "'   y'"
      ]
     },
     "execution_count": 10,
     "metadata": {},
     "output_type": "execute_result"
    }
   ],
   "source": [
    "'   y   '.rstrip()"
   ]
  },
  {
   "cell_type": "code",
   "execution_count": 11,
   "id": "90a02d0c",
   "metadata": {},
   "outputs": [
    {
     "name": "stdout",
     "output_type": "stream",
     "text": [
      "Python 3.9.12\n"
     ]
    }
   ],
   "source": [
    "!python -V"
   ]
  },
  {
   "cell_type": "code",
   "execution_count": 12,
   "id": "c9d1f7b8",
   "metadata": {},
   "outputs": [
    {
     "name": "stdout",
     "output_type": "stream",
     "text": [
      "10 [1, 2, 3, 4] 1 2 3 4\n"
     ]
    }
   ],
   "source": [
    "#List-mutable\n",
    "a = [1, 2, 3, 4]\n",
    "print(sum(a), a, *a)"
   ]
  },
  {
   "cell_type": "code",
   "execution_count": 13,
   "id": "later-lending",
   "metadata": {},
   "outputs": [
    {
     "name": "stdout",
     "output_type": "stream",
     "text": [
      "1\n"
     ]
    }
   ],
   "source": [
    "#List Methods\n",
    "a.append(1) #appends a new element to the end of the list\n",
    "a.count(1) #counts the instances of the argument\n",
    "a.extend([2,3]) #adds elements of new list to old list\n",
    "a.index(4) #gives the index in the list of the argument \n",
    "a.insert(0,'e') #inserts new element(2nd arg) into specific list position(1st arg)\n",
    "a.pop(0) #pops off last element\n",
    "a.remove(1) #removes arg element from list\n",
    "a.reverse() #reverses the order of the list\n",
    "a.sort() #sorts the elements of the list numerically or alphabetically\n",
    "print(a.count(1))"
   ]
  },
  {
   "cell_type": "code",
   "execution_count": 14,
   "id": "bc84a1c2",
   "metadata": {},
   "outputs": [
    {
     "name": "stdout",
     "output_type": "stream",
     "text": [
      "1 1 2 3 4 (1, 1, 2, 3, 4)\n"
     ]
    }
   ],
   "source": [
    "#tuple-immutable\n",
    "b = (1, 1, 2, 3, 4)\n",
    "print(*b, b[:])"
   ]
  },
  {
   "cell_type": "code",
   "execution_count": 15,
   "id": "environmental-smile",
   "metadata": {},
   "outputs": [
    {
     "data": {
      "text/plain": [
       "2"
      ]
     },
     "execution_count": 15,
     "metadata": {},
     "output_type": "execute_result"
    }
   ],
   "source": [
    "#Tuple Methods\n",
    "b.count(1) #counts elemnts\n",
    "b.index(2) #gives position of elememt"
   ]
  },
  {
   "cell_type": "code",
   "execution_count": 16,
   "id": "da706760",
   "metadata": {},
   "outputs": [
    {
     "name": "stdout",
     "output_type": "stream",
     "text": [
      "1 = a 1 2 3\n",
      "2 = b 1 2 3\n",
      "3 = c 1 2 3\n"
     ]
    }
   ],
   "source": [
    "#dictionary\n",
    "c = {1:'a', 2:'b', 3:'c'}\n",
    "for i in c:\n",
    "    print(i, '=', c[i], *c)\n",
    "d = c.copy()"
   ]
  },
  {
   "cell_type": "code",
   "execution_count": 17,
   "id": "hindu-layer",
   "metadata": {},
   "outputs": [
    {
     "data": {
      "text/plain": [
       "dict_values(['b', 'c'])"
      ]
     },
     "execution_count": 17,
     "metadata": {},
     "output_type": "execute_result"
    }
   ],
   "source": [
    "#dictionary methods\n",
    "c.clear() #removes all entries\n",
    "1 in d #replaces the 'has_key' method\n",
    "d.items() #returns dict items as a list, iteritems returns an iterator instead of a list\n",
    "d.keys() #returns the keys in a dict as a list, iterkeys returns and iterator\n",
    "d1 = {1:'a', 3:'c'}\n",
    "d.update(d1)\n",
    "d.pop(1) #The pop method can be used to get the value corresponding to a given key, and then remove the key-value pair from the dictionary\n",
    "d.values() #returns the value of each key-value pair\n"
   ]
  },
  {
   "cell_type": "code",
   "execution_count": 18,
   "id": "38e5e380",
   "metadata": {},
   "outputs": [],
   "source": [
    "#set\n",
    "s = {'a', 'b', 'c'}"
   ]
  },
  {
   "cell_type": "code",
   "execution_count": 19,
   "id": "b2174654",
   "metadata": {},
   "outputs": [],
   "source": [
    "#set methods\n",
    "s1 = s.copy()\n",
    "s.clear()\n",
    "s.add(4) #adds element to the set\n",
    "s.add(5)\n",
    "s1.difference(s)\n",
    "s2 = s1.difference_update(s)\n",
    "s1.discard('a')\n",
    "s1.intersection(s)\n",
    "s1.intersection_update(s)\n",
    "s1.isdisjoint(s)\n",
    "s1.issubset(s)\n",
    "s1.issuperset(s)\n",
    "s.remove(4)\n",
    "s.pop()\n",
    "s1.symmetric_difference(s)\n",
    "s1.symmetric_difference_update(s)\n",
    "s1.union(s)\n",
    "s1.update(s)"
   ]
  },
  {
   "cell_type": "code",
   "execution_count": 20,
   "id": "59702ffb",
   "metadata": {},
   "outputs": [
    {
     "data": {
      "text/plain": [
       "[[1, 2], [3, 5]]"
      ]
     },
     "execution_count": 20,
     "metadata": {},
     "output_type": "execute_result"
    }
   ],
   "source": [
    "#nested list\n",
    "[[1, 2], [3, 5]][:][:]"
   ]
  },
  {
   "cell_type": "code",
   "execution_count": 21,
   "id": "8c6a68e2",
   "metadata": {},
   "outputs": [
    {
     "name": "stdout",
     "output_type": "stream",
     "text": [
      "0 -1\n"
     ]
    }
   ],
   "source": [
    "#numpy arrays\n",
    "import numpy as np\n",
    "m = np.array([0,1])\n",
    "n = np.array([1,0])\n",
    "print(np.dot(m,n), np.cross(m,n))"
   ]
  },
  {
   "cell_type": "code",
   "execution_count": 22,
   "id": "513cfd2a",
   "metadata": {},
   "outputs": [
    {
     "data": {
      "text/plain": [
       "(matrix([[1, 2],\n",
       "         [3, 4]]),\n",
       " matrix([[1, 2],\n",
       "         [3, 4]]))"
      ]
     },
     "execution_count": 22,
     "metadata": {},
     "output_type": "execute_result"
    }
   ],
   "source": [
    "#numpymatrix\n",
    "matrix = np.matrix('1, 2; 3, 4')\n",
    "matrix1 = np.matrix([[1,2],[3,4]])\n",
    "matrix, matrix1"
   ]
  },
  {
   "cell_type": "code",
   "execution_count": 23,
   "id": "0d7b2ca9",
   "metadata": {},
   "outputs": [
    {
     "data": {
      "text/plain": [
       "-2.0000000000000004"
      ]
     },
     "execution_count": 23,
     "metadata": {},
     "output_type": "execute_result"
    }
   ],
   "source": [
    "np.linalg.det(matrix)"
   ]
  }
 ],
 "metadata": {
  "kernelspec": {
   "display_name": "Python 3 (ipykernel)",
   "language": "python",
   "name": "python3"
  },
  "language_info": {
   "codemirror_mode": {
    "name": "ipython",
    "version": 3
   },
   "file_extension": ".py",
   "mimetype": "text/x-python",
   "name": "python",
   "nbconvert_exporter": "python",
   "pygments_lexer": "ipython3",
   "version": "3.9.12"
  }
 },
 "nbformat": 4,
 "nbformat_minor": 5
}
