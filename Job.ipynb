{
 "cells": [
  {
   "cell_type": "markdown",
   "id": "1f683c2d",
   "metadata": {},
   "source": [
    "Hashmap"
   ]
  },
  {
   "cell_type": "code",
   "execution_count": 67,
   "id": "607ff680",
   "metadata": {},
   "outputs": [
    {
     "name": "stdout",
     "output_type": "stream",
     "text": [
      "['Bea', 'Tim', 'Leo', 'Sam', 'Mia', 'Zoe', 'Jan', 'Lou', 'Max', 'Ada', 'Ted']\n"
     ]
    }
   ],
   "source": [
    "a = ['Jan', 'Tim', 'Mia', 'Sam', 'Leo', 'Ted', 'Bea', 'Lou', 'Ada', 'Max', 'Zoe']\n",
    "def asc(x):\n",
    "    b = 0\n",
    "    for i in list(x):\n",
    "        b = b + ord(i)\n",
    "        c = []*len(a)\n",
    "        c.append(b%len(a))\n",
    "    \n",
    "    for j in range (0, len(c)):\n",
    "        c[j] = a[c[j]]\n",
    "        return c[j]\n",
    "#print(asc(a[0]))\n",
    "d = []\n",
    "for i in range(0, len(a)):\n",
    "   d.append(asc(a[i]))\n",
    "print(d)\n"
   ]
  },
  {
   "cell_type": "markdown",
   "id": "4e421670",
   "metadata": {},
   "source": [
    "Newton 1-D"
   ]
  },
  {
   "cell_type": "code",
   "execution_count": 4,
   "id": "7ce998c8",
   "metadata": {},
   "outputs": [
    {
     "name": "stdout",
     "output_type": "stream",
     "text": [
      "7.0\n",
      "5.344827586206897\n",
      "4.262980204242487\n",
      "3.5751312487040012\n",
      "3.1587667164936546\n",
      "2.9238527497428164\n",
      "2.801301482088031\n",
      "2.741508850187351\n",
      "2.7136182764363093\n",
      "2.7009317029249296\n",
      "2.6952330004230665\n",
      "2.6926882510378682\n",
      "2.6915549484409422\n",
      "2.691050842704656\n",
      "2.6908267318747923\n",
      "2.6907271226455776\n",
      "2.690682854651391\n",
      "2.690663182156151\n",
      "2.6906544399736045\n",
      "2.6906505551060986\n",
      "2.690648828748586\n",
      "2.6906480615912183\n",
      "2.690647720682723\n",
      "2.6906475691902596\n",
      "2.690647501870251\n",
      "2.6906474719546822\n",
      "2.690647458660845\n",
      "2.6906474527533493\n",
      "2.6906474501281847\n",
      "2.690647448961618\n",
      "2.690647448443221\n",
      "2.6906474482128564\n",
      "2.690647448110487\n",
      "2.6906474480649964\n",
      "2.6906474480447815\n",
      "2.6906474480357985\n",
      "2.6906474480318066\n",
      "2.690647448030033\n",
      "2.6906474480292446\n",
      "2.6906474480288938\n",
      "2.6906474480287383\n",
      "2.690647448028669\n",
      "2.6906474480286384\n",
      "2.6906474480286247\n",
      "2.6906474480286184\n",
      "2.6906474480286158\n",
      "2.690647448028615\n",
      "2.6906474480286144\n",
      "2.690647448028614\n",
      "None\n"
     ]
    }
   ],
   "source": [
    "#p0=1\n",
    "#TOL=10e-05\n",
    "#N0=50\n",
    "\n",
    "def f(x):\n",
    "    return x**3-2*x**2-5\n",
    "def fp(x):\n",
    "   return 3*x**2-2\n",
    "\n",
    "def newton(p0, TOL, N0, function , derivative ):\n",
    "#    f = x**3-2*x**2-5\n",
    "#    fp = x**3-2*x**2-5\n",
    "   \n",
    "#    p0 = 5\n",
    "    i=1\n",
    "    while i<N0:\n",
    "        p=p0-f(p0)/fp(p0)\n",
    "        print(p)\n",
    "        if p-p0==0:\n",
    "            return p\n",
    "#        print(p,i)\n",
    "        i=i+1\n",
    "        p0=p\n",
    "print(newton(1,10e-05,50,f, fp)) \n"
   ]
  },
  {
   "cell_type": "markdown",
   "id": "9b7ab4fa",
   "metadata": {},
   "source": [
    "Bisection"
   ]
  },
  {
   "cell_type": "code",
   "execution_count": 5,
   "id": "9ce566a7",
   "metadata": {},
   "outputs": [
    {
     "name": "stdout",
     "output_type": "stream",
     "text": [
      "None\n"
     ]
    }
   ],
   "source": [
    "\n",
    "\n",
    "#a = 1.0\n",
    "#b = 2.0\n",
    "#N0 = 15\n",
    "#TOL = 10e-4\n",
    "#i = 1\n",
    "def f(x):\n",
    "    return x**3+4*x**2-10        \n",
    "    \n",
    "def bisection(x, a, b, N0, TOL, i, function):\n",
    "    FA = f(a)\n",
    "    while i < N0:\n",
    "        p = a+(b-a)/2\n",
    "        FP = f(p)\n",
    "        if FP == 0 or (b-a)==0:\n",
    "            return p\n",
    "        i = i+1\n",
    "        if FP*FA > 0 or (b-a)/2<TOL:\n",
    "            a = p\n",
    "        else:\n",
    "            b = p   \n",
    "print(bisection(1,1,2.0,15, 10e-4, 1,f))\n",
    " \n",
    "\n"
   ]
  },
  {
   "cell_type": "markdown",
   "id": "8e6c6204",
   "metadata": {},
   "source": [
    "Vectors"
   ]
  },
  {
   "cell_type": "code",
   "execution_count": 70,
   "id": "ed827a4a",
   "metadata": {},
   "outputs": [
    {
     "data": {
      "image/png": "[encoded data removed]",
      "text/plain": [
       "<Figure size 432x288 with 1 Axes>"
      ]
     },
     "metadata": {
      "needs_background": "light"
     },
     "output_type": "display_data"
    }
   ],
   "source": [
    "import numpy as np \n",
    "import matplotlib.pyplot as plt \n",
    "\n",
    "a = np.array([1,1])\n",
    "\n",
    "b= np.matrix([[1,0],[0,1]])\n",
    "coordinates = a\n",
    "o = np.array([0, 0])\n",
    "plt.quiver(0, 1)#, coordinates[:, 1], color=['blue','green'], scale=15)\n",
    "plt.ylim(-10,10)\n",
    "plt.xlim(-10,10)\n",
    "plt.show()\n",
    "\n",
    "\n",
    "c = np.dot(b,a)"
   ]
  },
  {
   "cell_type": "markdown",
   "id": "9f7f735c",
   "metadata": {},
   "source": [
    "False Position"
   ]
  },
  {
   "cell_type": "code",
   "execution_count": 6,
   "id": "719baaa1",
   "metadata": {},
   "outputs": [
    {
     "name": "stdout",
     "output_type": "stream",
     "text": [
      "0.7390848638147098\n"
     ]
    }
   ],
   "source": [
    "\n",
    "import numpy as np\n",
    "\n",
    "p0 = 0.5\n",
    "p1 = np.pi/4\n",
    "TOL = 10e-5\n",
    "N0 = 10\n",
    "\n",
    "i = 2\n",
    "\n",
    "def f(x):\n",
    "    return np.cos(x)-x\n",
    "def falpos(x, p0, p1, TOL, N0, function):    \n",
    "    \n",
    "    p0 = 0.5\n",
    "    p1 = np.pi/4\n",
    "    TOL = 10e-5\n",
    "    N0 = 10\n",
    "\n",
    "    i = 2\n",
    "    q1 = f(p1)\n",
    "    q0 = f(p0)\n",
    "    while i<=N0:\n",
    "        p = p1-q1*(p1-p0)/(q1-q0)\n",
    "        if abs(p-p1)<TOL:\n",
    "            return p\n",
    "        i = i+1\n",
    "        q =f(p)\n",
    "        if q*q1<0:\n",
    "            p0 = p1\n",
    "            q0 = q1\n",
    "        p1 = p\n",
    "        q1 = q\n",
    "        \n",
    "print(falpos(0,0.5,np.pi/4, 10e-05,10,f))"
   ]
  },
  {
   "cell_type": "markdown",
   "id": "ecca48e1",
   "metadata": {},
   "source": [
    "Mueller's"
   ]
  },
  {
   "cell_type": "code",
   "execution_count": 13,
   "id": "9c1c8e55",
   "metadata": {},
   "outputs": [
    {
     "name": "stdout",
     "output_type": "stream",
     "text": [
      "(-0.3390928333840288-0.44663010055724217j)\n"
     ]
    }
   ],
   "source": [
    "import numpy as np\n",
    "\n",
    "p0 = 0.5+0j;\n",
    "p1 = -0.5+0j;\n",
    "p2 = 0+0j;\n",
    "TOL = 10e-5;\n",
    "N0 = 10;\n",
    "\n",
    "\n",
    "def f(x):\n",
    "    return x**4-3*x**3+x**2+x+1\n",
    "    \n",
    "\n",
    "def mull(p0, p1, p2, TOL, N0, f):\n",
    "    h1 = p1-p0;\n",
    "    h2 = p2-p1\n",
    "    del1 = (f(p1)-f(p0))/h1;\n",
    "    del2 = (f(p2)-f(p1))/h2\n",
    "    \n",
    "    d = (del2 - del1)/(h2+h1);\n",
    "    i = 3;\n",
    "    while i<=N0:\n",
    "        b = del2+h2*d;\n",
    "        D = (b**2-4*f(p2)*d)**0.5;\n",
    "        if np.abs(b-D)<np.abs(b+D):\n",
    "            E = b+D;\n",
    "        else:\n",
    "            E = b-D;\n",
    "        h = -2*f(p2)/E;\n",
    "        p = p2 + h;    \n",
    "        if np.abs(h)<TOL:\n",
    "            return p\n",
    "        p0 = p1;\n",
    "        p1 = p2;\n",
    "        p2 = p\n",
    "        h1 = p1 - p0;\n",
    "        h2 = p2 - p1;\n",
    "        del1 = (f(p1)-f(p0))/h1;\n",
    "        del2 = (f(p2)-f(p1))/h2;\n",
    "        d = (del2 - del1)/(h2 + h1);\n",
    "        i = i+1\n",
    "    \n",
    "print(mull(p0, p1, p2, TOL, N0, f ))\n",
    "    \n",
    "    \n",
    "\n"
   ]
  },
  {
   "cell_type": "markdown",
   "id": "cfaecde0",
   "metadata": {},
   "source": [
    "Norm"
   ]
  },
  {
   "cell_type": "code",
   "execution_count": 73,
   "id": "fddc9d68",
   "metadata": {},
   "outputs": [
    {
     "name": "stdout",
     "output_type": "stream",
     "text": [
      "5.0\n"
     ]
    }
   ],
   "source": [
    "n = 2\n",
    "x = [3,4]\n",
    "def norm(x,n):\n",
    "    \n",
    "\n",
    "    sumi = 0\n",
    "\n",
    "    for i in range(0,n):\n",
    "        sumi = sumi + x[i]**2\n",
    "    norm = sumi**0.5\n",
    "    return norm\n",
    "print(norm(x,n))\n"
   ]
  },
  {
   "cell_type": "markdown",
   "id": "0266912f",
   "metadata": {},
   "source": [
    "Secant"
   ]
  },
  {
   "cell_type": "code",
   "execution_count": 74,
   "id": "5b7bf3d7",
   "metadata": {},
   "outputs": [
    {
     "name": "stdout",
     "output_type": "stream",
     "text": [
      "0.7363841388365822\n",
      "0.7390581392138897\n",
      "0.7390851493372764\n",
      "0.7390851332150645\n",
      "0.7390851332151607\n",
      "0.7390851332151607\n",
      "0.7390851332151607\n",
      "0.7390851332151607\n",
      "0.7390851332151607\n",
      "0.7390851332151607\n",
      "0.7390851332151607\n",
      "0.7390851332151607\n",
      "0.7390851332151607\n",
      "0.7390851332151607\n",
      "0.7390851332151607\n",
      "0.7390851332151607\n",
      "0.7390851332151607\n",
      "0.7390851332151607\n",
      "0.7390851332151607\n",
      "0.7390851332151607\n",
      "0.7390851332151607\n",
      "0.7390851332151607\n",
      "0.7390851332151607\n",
      "0.7390851332151607\n",
      "0.7390851332151607\n",
      "0.7390851332151607\n",
      "0.7390851332151607\n",
      "0.7390851332151607\n",
      "0.7390851332151607\n",
      "0.7390851332151607\n",
      "0.7390851332151607\n",
      "0.7390851332151607\n",
      "0.7390851332151607\n",
      "0.7390851332151607\n",
      "0.7390851332151607\n",
      "0.7390851332151607\n",
      "0.7390851332151607\n",
      "0.7390851332151607\n",
      "0.7390851332151607\n",
      "0.7390851332151607\n",
      "0.7390851332151607\n",
      "0.7390851332151607\n",
      "0.7390851332151607\n",
      "0.7390851332151607\n",
      "0.7390851332151607\n",
      "0.7390851332151607\n",
      "0.7390851332151607\n",
      "0.7390851332151607\n",
      "0.7390851332151607\n",
      "0.7390851332151607\n",
      "0.7390851332151607\n",
      "0.7390851332151607\n",
      "0.7390851332151607\n",
      "0.7390851332151607\n",
      "0.7390851332151607\n",
      "0.7390851332151607\n",
      "0.7390851332151607\n",
      "0.7390851332151607\n",
      "0.7390851332151607\n",
      "0.7390851332151607\n",
      "0.7390851332151607\n",
      "0.7390851332151607\n",
      "0.7390851332151607\n",
      "0.7390851332151607\n",
      "0.7390851332151607\n",
      "0.7390851332151607\n",
      "0.7390851332151607\n",
      "0.7390851332151607\n",
      "0.7390851332151607\n",
      "0.7390851332151607\n",
      "0.7390851332151607\n",
      "0.7390851332151607\n",
      "0.7390851332151607\n",
      "0.7390851332151607\n",
      "0.7390851332151607\n",
      "0.7390851332151607\n",
      "0.7390851332151607\n",
      "0.7390851332151607\n",
      "0.7390851332151607\n",
      "0.7390851332151607\n",
      "0.7390851332151607\n",
      "0.7390851332151607\n",
      "0.7390851332151607\n",
      "0.7390851332151607\n",
      "0.7390851332151607\n",
      "0.7390851332151607\n",
      "0.7390851332151607\n",
      "0.7390851332151607\n",
      "0.7390851332151607\n",
      "0.7390851332151607\n",
      "0.7390851332151607\n",
      "0.7390851332151607\n",
      "0.7390851332151607\n",
      "0.7390851332151607\n",
      "0.7390851332151607\n",
      "0.7390851332151607\n",
      "0.7390851332151607\n",
      "0.7390851332151607\n",
      "None\n"
     ]
    }
   ],
   "source": [
    "import numpy as np\n",
    "\n",
    "def f(x):\n",
    "    return np.cos(x)-x\n",
    "def secant(p0, p1):\n",
    "    N0 = 100\n",
    "#    p0 = 0.5\n",
    "#    p1 = np.pi/4\n",
    "    TOL = 10e-1\n",
    "    i = 2\n",
    "    q0 = f(p0)\n",
    "    q1 = f(p1)\n",
    "    while i<=N0:\n",
    "        if q1-q0 != 0:\n",
    "            p = p1-q1*((p1-p0)/(q1-q0))\n",
    "        if p-p1 or q1-q0 == 0 :\n",
    "            print(p)\n",
    "        i = i+1\n",
    "        p0 = p1\n",
    "        q0 = q1\n",
    "        p1 = p\n",
    "        q1 = f(p)\n",
    "print(secant(0.5, np.pi/4))   \n"
   ]
  },
  {
   "cell_type": "markdown",
   "id": "0d2e9199",
   "metadata": {},
   "source": [
    "Stephenson"
   ]
  },
  {
   "cell_type": "code",
   "execution_count": 19,
   "id": "6db2d11b",
   "metadata": {},
   "outputs": [
    {
     "name": "stdout",
     "output_type": "stream",
     "text": [
      "1.3652300134165856 0.06926684382093029\n"
     ]
    }
   ],
   "source": [
    "import numpy as np\n",
    "\n",
    "\n",
    "def g(x):\n",
    "    return (10/(x+4))**0.5\n",
    "def steff(x,function):\n",
    "    p0 = 1.5\n",
    "    TOL = 10e-5\n",
    "    N0 = 50\n",
    "    i = 1\n",
    "    while i<=N0:\n",
    "        p1 = g(p0)\n",
    "        p2 = g(p1)\n",
    "        p  = p0-(p1-p0)**2/(p2-2*p1+p0)\n",
    "        if np.abs(p-p0)<TOL:\n",
    "           return p\n",
    "        i = i+1\n",
    "        p0 = p\n",
    "    \n",
    "print(steff(1.36, f), f(steff(1.36, f)))\n"
   ]
  },
  {
   "cell_type": "markdown",
   "id": "c362dd19",
   "metadata": {},
   "source": [
    "Taylor"
   ]
  },
  {
   "cell_type": "code",
   "execution_count": 76,
   "id": "75191939",
   "metadata": {},
   "outputs": [
    {
     "name": "stdout",
     "output_type": "stream",
     "text": [
      "9\n",
      "10\n",
      "11\n",
      "12\n",
      "13\n",
      "14\n",
      "15\n"
     ]
    }
   ],
   "source": [
    "x = 1.5\n",
    "\n",
    "TOL = 10.0e-5\n",
    "\n",
    "M = 15\n",
    "\n",
    "n = 1\n",
    "y = x-1\n",
    "sumi = 0\n",
    "power = y\n",
    "term = y\n",
    "sign = -1\n",
    "\n",
    "while n<=M:\n",
    "    sign = -sign\n",
    "    sumi = sumi+sign*term\n",
    "    power = power*y\n",
    "    term = power/(n+1)\n",
    "    if abs(term)<TOL:\n",
    "        print(n)\n",
    "    n = n+1\n"
   ]
  },
  {
   "cell_type": "markdown",
   "id": "6a33c115",
   "metadata": {},
   "source": [
    "Tanh Perceptron"
   ]
  },
  {
   "cell_type": "code",
   "execution_count": 77,
   "id": "b3b1dd4b",
   "metadata": {},
   "outputs": [
    {
     "data": {
      "image/png": "[encoded data removed]",
      "text/plain": [
       "<Figure size 432x288 with 1 Axes>"
      ]
     },
     "metadata": {
      "needs_background": "light"
     },
     "output_type": "display_data"
    }
   ],
   "source": [
    "import matplotlib.pyplot as plt\n",
    "import numpy as np\n",
    "\n",
    "\n",
    "\n",
    "x = np.linspace(-5, 5, 10000)\n",
    "def pertan(x):\n",
    "\n",
    "    alpha = 1\n",
    "    return np.tanh(x/alpha)\n",
    "\n",
    "plt.plot(x,pertan(x))\n",
    "plt.show()\n"
   ]
  },
  {
   "cell_type": "markdown",
   "id": "c97fe06b",
   "metadata": {},
   "source": [
    "Perceptron Exp"
   ]
  },
  {
   "cell_type": "code",
   "execution_count": 78,
   "id": "ad9eced9",
   "metadata": {},
   "outputs": [
    {
     "data": {
      "image/png": "[encoded data removed]",
      "text/plain": [
       "<Figure size 432x288 with 1 Axes>"
      ]
     },
     "metadata": {
      "needs_background": "light"
     },
     "output_type": "display_data"
    }
   ],
   "source": [
    "import matplotlib.pyplot as plt\n",
    "import numpy as np\n",
    "\n",
    "\n",
    "\n",
    "x = np.linspace(-5, 5, 10000)\n",
    "def perexp(x):\n",
    "\n",
    "    alpha = 1\n",
    "    return 1/(1+np.exp(-x/alpha))\n",
    "\n",
    "plt.plot(x,perexp(x))\n",
    "plt.show()\n"
   ]
  },
  {
   "cell_type": "markdown",
   "id": "48b70c19",
   "metadata": {},
   "source": [
    "Threshold Perceptron"
   ]
  },
  {
   "cell_type": "code",
   "execution_count": 79,
   "id": "5848883c",
   "metadata": {},
   "outputs": [
    {
     "data": {
      "image/png": "[encoded data removed]",
      "text/plain": [
       "<Figure size 432x288 with 1 Axes>"
      ]
     },
     "metadata": {
      "needs_background": "light"
     },
     "output_type": "display_data"
    }
   ],
   "source": [
    "import matplotlib.pyplot as plt\n",
    "import numpy as np\n",
    "\n",
    "\n",
    "\n",
    "#x = np.linspace(-5, 5, 10000)\n",
    "def perthresh(x):  \n",
    "    for i in range (0, 10000):\n",
    "        if x > 0:\n",
    "            return 1\n",
    "        elif x == 0:\n",
    "            return 0\n",
    "        else:\n",
    "            return -1\n",
    "    \n",
    "    \n",
    "x = np.arange(-5., 5., 0.2)\n",
    "\n",
    "y = []\n",
    "for i in range(len(x)):\n",
    "   y.append(perthresh(x[i]))\n",
    "\n",
    "plt.plot(x,y)\n",
    "plt.show()\n",
    "\n",
    "#.plot(x,perthresh(x))\n",
    "#plt.show()\n"
   ]
  },
  {
   "cell_type": "markdown",
   "id": "b6974591",
   "metadata": {},
   "source": [
    "Newton Multi"
   ]
  },
  {
   "cell_type": "code",
   "execution_count": 80,
   "id": "4771638b",
   "metadata": {},
   "outputs": [
    {
     "name": "stdout",
     "output_type": "stream",
     "text": [
      "[0.50000013507807, 2.8710486441824098e-08, -0.5235987472025346]\n",
      "[0.500000006008058, 1.0686316491946309e-08, -0.523598774100067]\n",
      "[0.5000000034036686, 4.753108211887698e-10, -0.5235987748889914]\n",
      "[0.5000000000686797, 2.6927150461896047e-10, -0.5235987755774943]\n",
      "[0.500000000087946, 5.4333942458633414e-12, -0.5235987755801426]\n"
     ]
    }
   ],
   "source": [
    "import numpy as np \n",
    "\n",
    "\n",
    "TOL = 1E-6\n",
    "\n",
    "\n",
    "x = np.array([0.1, 0.1, -0.1])\n",
    "N = 12\n",
    "k = 1\n",
    "while k<=N:\n",
    "    F = np.matrix([3*x[0]-np.cos(x[1]*x[2])- 0.5, x[0]**2-81*(x[1]+0.1)**2+np.sin(x[2])+1.06, \n",
    "    np.exp(-x[0]*x[1])+20*x[2]+(10*np.pi - 3)/3])\n",
    "    \n",
    "    \n",
    "    J = np.matrix([[3., 2*x[0],-x[1]*np.exp(-x[0]*x[1])], [x[2]*np.sin(x[1]*x[2]), \n",
    "    -162*(x[1]+0.1), -x[0]*np.exp(-x[0]*x[1])], [x[1]*np.sin(x[1]*x[2]), np.cos(x[2]), 20.]]) \n",
    "    \n",
    "    y = np.array(np.linalg.inv(J)*np.transpose(-F))\n",
    "    \n",
    "    x = (x+y.flatten()).tolist()\n",
    "    if np.linalg.norm(y)<TOL:\n",
    "        print(x)        \n",
    "    k = k+1"
   ]
  },
  {
   "cell_type": "markdown",
   "id": "5a747c7e",
   "metadata": {},
   "source": [
    "Broyden "
   ]
  },
  {
   "cell_type": "code",
   "execution_count": 81,
   "id": "a80f1470",
   "metadata": {},
   "outputs": [
    {
     "name": "stdout",
     "output_type": "stream",
     "text": [
      "[0.49999999999999156, -4.374507638387203e-15, -0.5235987755982907]\n"
     ]
    }
   ],
   "source": [
    "import numpy as np\n",
    "N = 12\n",
    "TOL = 1E-10\n",
    "\n",
    "\n",
    "x = np.array([0.1, 0.1, -0.1])\n",
    "F = np.matrix([3*x[0]-np.cos(x[1]*x[2])- 0.5, x[0]**2-81*(x[1]+0.1)**2+np.sin(x[2])+1.06, \n",
    "np.exp(-x[0]*x[1])+20*x[2]+(10*np.pi - 3)/3])\n",
    "J = np.matrix([[3., 2*x[0],-x[1]*np.exp(-x[0]*x[1])], [x[2]*np.sin(x[1]*x[2]), \n",
    "-162*(x[1]+0.1), -x[0]*np.exp(-x[0]*x[1])], [x[1]*np.sin(x[1]*x[2]), np.cos(x[2]), 20.]]) \n",
    "\n",
    "v = F\n",
    "A0 = J\n",
    "A = np.linalg.inv(A0)\n",
    "s = np.array(-A.dot(np.transpose(v)))\n",
    "x = (x + s.flatten()).tolist()\n",
    "k = 2\n",
    "\n",
    "while k<=N:\n",
    "    w = v\n",
    "    v = np.matrix([3*x[0]-np.cos(x[1]*x[2])- 0.5, x[0]**2-81*(x[1]+0.1)**2+np.sin(x[2])+1.06, \n",
    "    np.exp(-x[0]*x[1])+20*x[2]+(10*np.pi - 3)/3])\n",
    "    y = v - w\n",
    "    z = np.array(A.dot(np.transpose(y)))\n",
    "    p = -np.dot(np.transpose(s),z)\n",
    "    u = np.transpose(s)*A\n",
    "    ut = np.transpose(u)\n",
    "    A = A + (1/p)*(s+z)*u\n",
    "    s = np.array(A*np.transpose(v))\n",
    "    x = (x - s.flatten()).tolist()\n",
    "    if np.linalg.norm(s) < TOL:\n",
    "        print(x)\n",
    "    k = k+1"
   ]
  },
  {
   "cell_type": "markdown",
   "id": "a78ceffe",
   "metadata": {},
   "source": [
    "Divided Difference"
   ]
  },
  {
   "cell_type": "code",
   "execution_count": 82,
   "id": "e79f73ce",
   "metadata": {},
   "outputs": [
    {
     "name": "stdout",
     "output_type": "stream",
     "text": [
      "[1.5, 1.5, 1.5000000000000002, 1.5, 1.4999999999999998, 1.5]\n"
     ]
    }
   ],
   "source": [
    "a = [0, 0.0001, 0.0002, 0.0003, 0.0004, 0.0005]\n",
    "\n",
    "\n",
    "\n",
    "def f(x):\n",
    "    return 1.5*x\n",
    "\n",
    "\n",
    "b = []\n",
    "\n",
    "for i in range(len(a)):\n",
    "    xi = a[(i+1)%len(a)]-a[i]\n",
    "    F = (f(a[(i+1)%len(a)])-f(a[i]))/xi\n",
    "    \n",
    "    b.append(F)\n",
    "print(b)\n"
   ]
  },
  {
   "cell_type": "markdown",
   "id": "ffcf5f1e",
   "metadata": {},
   "source": [
    "Runge Kutta 1-D"
   ]
  },
  {
   "cell_type": "code",
   "execution_count": 53,
   "id": "86be275d",
   "metadata": {},
   "outputs": [
    {
     "name": "stdout",
     "output_type": "stream",
     "text": [
      "0 5.305363000692653\n"
     ]
    }
   ],
   "source": [
    "\n",
    "import numpy as np\n",
    "\n",
    "a = 0\n",
    "b = 2.0\n",
    "N = 10\n",
    "alpha = 0.5\n",
    "t = a;\n",
    "def f(t,w):\n",
    "    return w - t**2 +1\n",
    "def rk4(a, b, t, N, alpha, function):\n",
    "    h = (b-a)/N;\n",
    "    omega = alpha;\n",
    "    for i in range(1,N+1):\n",
    "        K1 = h*f(t, omega);\n",
    "        K2 = h*f(t+h/2, omega + K1/2);\n",
    "        K3 = h*f(t + h/2, omega+K2/2);\n",
    "        K4 = h*f(t+h, omega + K3);\n",
    "    \n",
    "        omega = omega +(K1 + 2*K2 + 2*K3 + K4)/6;\n",
    "        t = a +i*h;\n",
    "    return omega\n",
    "print(t,rk4(a, b, t, N, alpha, f))"
   ]
  },
  {
   "cell_type": "markdown",
   "id": "01a58cc9",
   "metadata": {},
   "source": [
    "Runge Kutta Multi"
   ]
  },
  {
   "cell_type": "code",
   "execution_count": 85,
   "id": "2c3eb099",
   "metadata": {},
   "outputs": [
    {
     "name": "stdout",
     "output_type": "stream",
     "text": [
      "0.0\n",
      "0.0\n",
      "4.8\n",
      "4.8\n",
      "20.64\n",
      "20.64\n",
      "69.712\n",
      "69.712\n",
      "228.44960000000003\n",
      "228.44960000000003\n",
      "4.0 [0.0, 0]\n"
     ]
    }
   ],
   "source": [
    "\n",
    "\n",
    "import numpy as np\n",
    "\n",
    "\n",
    "\n",
    "def g1(x,y):\n",
    "    return -4.0*x + 3.0*y + 6.0\n",
    "def g2(x,y):\n",
    "    return -2.4*x + 1.6*y + 3.6\n",
    "f = [g1, g2];\n",
    "a = 0.0 \n",
    "b = 1.0\n",
    "m = 2\n",
    "N = 5\n",
    "alpha = [0]*m;\n",
    "alpha[0] = 0.0\n",
    "alpha[0] = 0.0\n",
    "omega = [0]*m\n",
    "u = 0;\n",
    "u1 = 0;\n",
    "u2 = 0;\n",
    "h = (b-a)/2;\n",
    "t = a;\n",
    "for j in range(0, m):\n",
    "    omega[j] = alpha[j];\n",
    "w, h = 4, j \n",
    "k = [[0 for x in range(w)]] *4 \n",
    "for i in range (0, N):\n",
    "    for j in range(0, m):\n",
    "        u = u + omega[j];\n",
    "        k[0][j] = h*f[j](t, u)\n",
    "        print(u)\n",
    "    for j in range(0, m):\n",
    "        u = u + omega[j] + 0.5*k[1][j];\n",
    "        k[1][j] = h*f[j](t+h/2, u[0]+);\n",
    "        \n",
    "    for j in range(0, m):\n",
    "        u1 = u1 + omega[j] + 0.5*k[2][j];\n",
    "        k[2][j] = h*f[j](t+h/2, u1);\n",
    "        \n",
    "    for j in range(0, m):\n",
    "        u2 = u2 + omega[j] +(k[0][j] + 2*k[1][j] + 2*k[2][j] + k[3][j])/6\n",
    "        k[3][j] = h*f[j](t+h/2, u2);\n",
    "    t = a + i*h;\n",
    "print(t, omega)"
   ]
  },
  {
   "cell_type": "markdown",
   "id": "3d626862",
   "metadata": {},
   "source": [
    "Simpson's"
   ]
  },
  {
   "cell_type": "code",
   "execution_count": 86,
   "id": "e4350e24",
   "metadata": {},
   "outputs": [
    {
     "name": "stdout",
     "output_type": "stream",
     "text": [
      "1.462681400099797\n"
     ]
    }
   ],
   "source": [
    "import numpy as np\n",
    "a = 0.0\n",
    "b = 1.0\n",
    "n = 10\n",
    "delt = (b-a)/n\n",
    "\n",
    "\n",
    "def f(x):\n",
    "    return np.exp(x**2)\n",
    "z = 0\n",
    "for i in range(1, n):\n",
    "    ti = a + i*delt\n",
    "    y0 = (f(a)+f(b))*(delt/3)\n",
    "    if i%2 == 0:\n",
    "        x = 2*f(ti)*(delt/3)\n",
    "    else: \n",
    "        x = 4*f(ti)*(delt/3)\n",
    "    z = z + x\n",
    "    d = z + y0\n",
    "print(d)"
   ]
  },
  {
   "cell_type": "markdown",
   "id": "cac9b41a",
   "metadata": {},
   "source": [
    "Trapezoid"
   ]
  },
  {
   "cell_type": "code",
   "execution_count": 24,
   "id": "44af095a",
   "metadata": {},
   "outputs": [
    {
     "name": "stdout",
     "output_type": "stream",
     "text": [
      "0.6956349206349207\n"
     ]
    }
   ],
   "source": [
    "import numpy as np\n",
    "a = 1.0\n",
    "b = 2.0\n",
    "N0 = 5\n",
    "def f(x):\n",
    "    return 1/x\n",
    "def trap(a, b, N0) :   \n",
    "    dx = (b-a)/N0\n",
    "    z = 0\n",
    "    for i in range(1,N0):   \n",
    "        ti = a + i*dx\n",
    "        y0 = (f(a)+f(b))*dx*0.5\n",
    "        y = 2* f(ti)*dx*0.5\n",
    "        z = z + y\n",
    "        z1 = z + y0\n",
    "    return z1\n",
    "print(trap(a, b, N0))    "
   ]
  },
  {
   "cell_type": "markdown",
   "id": "9d0bb109",
   "metadata": {},
   "source": [
    "Adaptive Quadrature"
   ]
  },
  {
   "cell_type": "code",
   "execution_count": 88,
   "id": "2283b1ed",
   "metadata": {},
   "outputs": [
    {
     "name": "stdout",
     "output_type": "stream",
     "text": [
      "0\n"
     ]
    }
   ],
   "source": [
    "import numpy as np\n",
    "\n",
    "a = 1.0;\n",
    "b = 3.0;\n",
    "TOL = 10e-4\n",
    "N = 4\n",
    "def f(x):\n",
    "    return (100.0/x**2)*np.sin(10/x)\n",
    "\n",
    "APP = 0;\n",
    "i = 0;\n",
    "aa = [0]*N\n",
    "aa[i] = a;\n",
    "h = [0]*N;\n",
    "h[i] = (b-a)/2;\n",
    "TOLi = [0]*N\n",
    "TOLi[i] = 10*TOL\n",
    "FA = [0]*N;\n",
    "FA[i] = f(a);\n",
    "FC = [0]*N;\n",
    "FC[i] = f(a+h[i]);\n",
    "FB = [0]*N;\n",
    "FB[i] = f(b);\n",
    "S = [0]*N;\n",
    "S[i] = h[i]*(FA[i] +4*FC[i] +FB[i])/3;\n",
    "L = [0]*N;\n",
    "L[i] = 1;\n",
    "while i >= 1:\n",
    "    FD = f(aa[i] + h[i]/2);\n",
    "    FE = f(aa[i]+3*h[i]/2);\n",
    "    S1 = h[i]*(FA[i] + 4*FD +FC[i])/6;\n",
    "    S2 = h[i]*(FC[i] + 4*FE + FB[i])/6;\n",
    "    v1 = aa[i];\n",
    "    v2 = FA[i];\n",
    "    v3 = FC[i];\n",
    "    v4 = FB[i];\n",
    "    v5 = h[i];\n",
    "    v6 = TOLi[i];\n",
    "    v7 = S[i];\n",
    "    v8 = L[i];\n",
    "    i = i - 1;\n",
    "    if np.abs(S1+S2-v7)<v6:\n",
    "        APP = APP+(S1+S2);\n",
    "    else:\n",
    "        if v8 >=N:\n",
    "            print(\"LEVEL EXCEEDED\")\n",
    "        else:\n",
    "            i = i+1;\n",
    "            aa[i] = v1 + v5;\n",
    "            FA[i] = v3;\n",
    "            FC[i] = FE;\n",
    "            FB[i] = v4;\n",
    "            h[i] = v5/2;\n",
    "            TOLi[i] = v6/2;\n",
    "            S[i] = S2;\n",
    "            L[i] = v8 +1;\n",
    "            i = i+1;\n",
    "            aa[i] = v1;\n",
    "            FA[i] = v2;\n",
    "            FC[i] = FD;\n",
    "            FB[i] = v3;\n",
    "            h[i] = h[i-1];\n",
    "            TOLi[i] = TOLi[i-1];\n",
    "            S[i] = S1;\n",
    "            L[i] = L[i-1];\n",
    "print (APP)"
   ]
  },
  {
   "cell_type": "markdown",
   "id": "01cac6b6",
   "metadata": {},
   "source": [
    "Euler's"
   ]
  },
  {
   "cell_type": "code",
   "execution_count": 33,
   "id": "bd5b7c43",
   "metadata": {},
   "outputs": [
    {
     "name": "stdout",
     "output_type": "stream",
     "text": [
      "0.8\n"
     ]
    }
   ],
   "source": [
    "a = 0.0;\n",
    "b = 2;\n",
    "N = 10;\n",
    "alpha = 0.5;\n",
    "h = (b-a)/N;\n",
    "\n",
    "\n",
    "def f(t,y):\n",
    "    return y-t**2+1.0\n",
    "def euler(a, b, N, alpha):\n",
    "    omega = alpha;\n",
    "    t = a;\n",
    "    for i in range(1,N+1):\n",
    "        omega = omega +h*f(t,omega)\n",
    "        t = a +i*h\n",
    "        return omega\n",
    "print((euler(0., 2, 10, 0.5)))"
   ]
  },
  {
   "cell_type": "code",
   "execution_count": null,
   "id": "de918037",
   "metadata": {},
   "outputs": [],
   "source": []
  },
  {
   "cell_type": "code",
   "execution_count": null,
   "id": "23f7d63a",
   "metadata": {},
   "outputs": [],
   "source": []
  },
  {
   "cell_type": "code",
   "execution_count": null,
   "id": "f6c08210",
   "metadata": {},
   "outputs": [],
   "source": []
  }
 ],
 "metadata": {
  "kernelspec": {
   "display_name": "Python 3 (ipykernel)",
   "language": "python",
   "name": "python3"
  },
  "language_info": {
   "codemirror_mode": {
    "name": "ipython",
    "version": 3
   },
   "file_extension": ".py",
   "mimetype": "text/x-python",
   "name": "python",
   "nbconvert_exporter": "python",
   "pygments_lexer": "ipython3",
   "version": "3.9.12"
  }
 },
 "nbformat": 4,
 "nbformat_minor": 5
}
