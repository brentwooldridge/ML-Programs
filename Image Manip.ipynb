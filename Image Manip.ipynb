{
 "cells": [
  {
   "cell_type": "code",
   "execution_count": 6,
   "metadata": {},
   "outputs": [
    {
     "name": "stdout",
     "output_type": "stream",
     "text": [
      "JPEG (259, 300) RGB\n"
     ]
    }
   ],
   "source": [
    "from PIL import Image\n",
    "img = Image.open(\"rose.jpg\")\n",
    "img.show()\n",
    "print(img.format, img.size, img.mode)\n"
   ]
  },
  {
   "cell_type": "code",
   "execution_count": 7,
   "metadata": {
    "collapsed": true
   },
   "outputs": [],
   "source": [
    "import numpy as np\n",
    "pix = np.array(img.getdata())\n",
    "data = list(tuple(pixel) for pixel in pix)"
   ]
  },
  {
   "cell_type": "code",
   "execution_count": 8,
   "metadata": {},
   "outputs": [],
   "source": [
    "pix = np.array(img)"
   ]
  },
  {
   "cell_type": "code",
   "execution_count": 9,
   "metadata": {},
   "outputs": [
    {
     "data": {
      "text/plain": [
       "array([[[214, 219, 225],\n",
       "        [215, 220, 226],\n",
       "        [216, 221, 227],\n",
       "        ..., \n",
       "        [206, 211, 214],\n",
       "        [206, 211, 214],\n",
       "        [205, 210, 213]],\n",
       "\n",
       "       [[215, 220, 226],\n",
       "        [215, 220, 226],\n",
       "        [216, 221, 227],\n",
       "        ..., \n",
       "        [206, 211, 214],\n",
       "        [206, 211, 214],\n",
       "        [205, 210, 213]],\n",
       "\n",
       "       [[215, 220, 226],\n",
       "        [215, 220, 226],\n",
       "        [216, 221, 227],\n",
       "        ..., \n",
       "        [206, 211, 214],\n",
       "        [206, 211, 214],\n",
       "        [205, 210, 213]],\n",
       "\n",
       "       ..., \n",
       "       [[ 20,  20,  20],\n",
       "        [ 12,  12,  12],\n",
       "        [ 12,  12,  12],\n",
       "        ..., \n",
       "        [ 16,  16,  16],\n",
       "        [ 11,  11,  11],\n",
       "        [  5,   5,   5]],\n",
       "\n",
       "       [[ 27,  27,  27],\n",
       "        [ 23,  23,  23],\n",
       "        [ 27,  27,  27],\n",
       "        ..., \n",
       "        [ 12,  12,  12],\n",
       "        [  8,   8,   8],\n",
       "        [  5,   5,   5]],\n",
       "\n",
       "       [[ 18,  18,  18],\n",
       "        [ 18,  18,  18],\n",
       "        [ 25,  25,  25],\n",
       "        ..., \n",
       "        [ 11,  11,  11],\n",
       "        [  9,   9,   9],\n",
       "        [  7,   7,   7]]], dtype=uint8)"
      ]
     },
     "execution_count": 9,
     "metadata": {},
     "output_type": "execute_result"
    }
   ],
   "source": [
    "pix"
   ]
  },
  {
   "cell_type": "code",
   "execution_count": 10,
   "metadata": {},
   "outputs": [
    {
     "data": {
      "text/plain": [
       "233100"
      ]
     },
     "execution_count": 10,
     "metadata": {},
     "output_type": "execute_result"
    }
   ],
   "source": [
    "pix.size"
   ]
  },
  {
   "cell_type": "code",
   "execution_count": 47,
   "metadata": {},
   "outputs": [],
   "source": [
    "array = np.zeros([150, 200, 3], dtype=np.uint8)\n",
    "array[:,100:] = [0, 0, 255] #Orange left side\n",
    "array[:,:100:] = [255,0 , 0]   #Blue right side\n",
    "\n",
    "img = Image.fromarray(array)\n",
    "img.save('testrgb.png')"
   ]
  },
  {
   "cell_type": "code",
   "execution_count": 48,
   "metadata": {
    "collapsed": true
   },
   "outputs": [],
   "source": [
    "img.show()"
   ]
  },
  {
   "cell_type": "code",
   "execution_count": null,
   "metadata": {
    "collapsed": true
   },
   "outputs": [],
   "source": []
  }
 ],
 "metadata": {
  "kernelspec": {
   "display_name": "Python 3 (ipykernel)",
   "language": "python",
   "name": "python3"
  },
  "language_info": {
   "codemirror_mode": {
    "name": "ipython",
    "version": 3
   },
   "file_extension": ".py",
   "mimetype": "text/x-python",
   "name": "python",
   "nbconvert_exporter": "python",
   "pygments_lexer": "ipython3",
   "version": "3.9.12"
  }
 },
 "nbformat": 4,
 "nbformat_minor": 2
}
